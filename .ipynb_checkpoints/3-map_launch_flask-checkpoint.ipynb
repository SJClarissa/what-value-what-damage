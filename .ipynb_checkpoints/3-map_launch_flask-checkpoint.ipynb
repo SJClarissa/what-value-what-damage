{
 "cells": [
  {
   "cell_type": "code",
   "execution_count": 1,
   "metadata": {},
   "outputs": [],
   "source": [
    "import pandas as pd\n",
    "import numpy as np\n",
    "\n",
    "\n",
    "from uszipcode import SearchEngine\n",
    "search = SearchEngine(simple_zipcode=False)\n",
    "\n",
    "import geopandas as gpd\n",
    "import folium\n",
    "\n",
    "import os\n",
    "from flask import Flask, request, render_template\n",
    "from shapely.geometry import mapping\n",
    "from datafetching import *\n",
    "from map_it import *\n",
    "from IPython.display import display, HTML"
   ]
  },
  {
   "cell_type": "code",
   "execution_count": null,
   "metadata": {},
   "outputs": [],
   "source": [
    "\n",
    "# create app\n",
    "app = Flask(__name__)\n",
    "\n",
    "\n",
    "@app.route('/', methods=['GET', 'POST'])\n",
    "def index():\n",
    "    if request.method == 'GET':\n",
    "        # show html form\n",
    "        return render_template('home2.html')\n",
    "    \n",
    "    elif request.method == 'POST':\n",
    "        \n",
    "        zip_codes = request.form.get('zip_codes')\n",
    "        \n",
    "        zip_codes = process_zips(zip_codes)  \n",
    "        \n",
    "        map_it = mapit(zip_codes)._repr_html_() # turn this to a html\n",
    "        table_dict = tableit(zip_codes)\n",
    "\n",
    "        html = \"\"\n",
    "        css = \"\"\n",
    "        id = ['pop', 'home', 'hur', 'flood', 'tor']\n",
    "        colors = ['red', 'green', 'blue', 'red', 'green']\n",
    "        ziptabs = \"\"\n",
    "        for zipcode in zip_codes:\n",
    "            ziptabs += f\"\"\"<button class=\"tablink2\" onclick=\"openZip('{zipcode}', this, 'red')\">{zipcode}</button>\"\"\"\n",
    "            html += f\"\"\"<div id=\"{zipcode}\", class=\"tabcontent2\">\n",
    "                    \n",
    "                    <button class=\"tablink\" onclick=\"openPage('pop_{zipcode}', this, 'red')\">Population Stats</button>\n",
    "                    <button class=\"tablink\" onclick=\"openPage('home_{zipcode}', this, 'green')\" id=\"defaultOpen\">Home Value</button>\n",
    "                    <button class=\"tablink\" onclick=\"openPage('hur_{zipcode}', this, 'blue')\">Hurricane Damage Estimates</button>\n",
    "                    <button class=\"tablink\" onclick=\"openPage('flood_{zipcode}', this, 'red')\">Flood Damage Estimates</button>\n",
    "                    <button class=\"tablink\" onclick=\"openPage('tor_{zipcode}', this, 'green')\">Tornado Damage Estimates</button>\n",
    "                    \n",
    "                    \"\"\"\n",
    "\n",
    "            for i in range(len(table_dict[zipcode])):\n",
    "                html += f'<div id=\"{id[i]}_{zipcode}\" class=\"tabcontent\" style=\"background-color: {colors[i]}\">'\n",
    "                html += table_dict[zipcode][i]\n",
    "                html += '</div>'\n",
    "           \n",
    "            html += '</div>'\n",
    "        return render_template('home2.html', map=map_it, html=html, ziptabs=ziptabs)\n",
    "\n",
    "\n",
    "# run app\n",
    "if __name__ == '__main__':\n",
    "    app.run(debug=True)"
   ]
  },
  {
   "cell_type": "code",
   "execution_count": null,
   "metadata": {},
   "outputs": [],
   "source": []
  }
 ],
 "metadata": {
  "kernelspec": {
   "display_name": "Python 3",
   "language": "python",
   "name": "python3"
  },
  "language_info": {
   "codemirror_mode": {
    "name": "ipython",
    "version": 3
   },
   "file_extension": ".py",
   "mimetype": "text/x-python",
   "name": "python",
   "nbconvert_exporter": "python",
   "pygments_lexer": "ipython3",
   "version": "3.7.3"
  }
 },
 "nbformat": 4,
 "nbformat_minor": 2
}
