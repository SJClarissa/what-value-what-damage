{
 "cells": [
  {
   "cell_type": "code",
   "execution_count": 4,
   "metadata": {},
   "outputs": [],
   "source": [
    "from flask import Flask, request, render_template\n",
    "from datafetching import *\n",
    "from map_it import *\n",
    "from IPython.display import display, HTML"
   ]
  },
  {
   "cell_type": "code",
   "execution_count": 5,
   "metadata": {},
   "outputs": [],
   "source": [
    "# create app\n",
    "app = Flask(__name__)\n",
    "\n",
    "\n",
    "@app.route('/', methods=['GET', 'POST'])\n",
    "def index():\n",
    "    if request.method == 'GET':\n",
    "        # show html form\n",
    "        return render_template('home2.html')\n",
    "    \n",
    "    elif request.method == 'POST':\n",
    "        \n",
    "        zip_codes = request.form.get('zip_codes')\n",
    "        \n",
    "        zip_codes = process_zips(zip_codes)  \n",
    "        \n",
    "        map_it = mapit(zip_codes)._repr_html_() # turn this to a html\n",
    "        table_dict = tableit(zip_codes)\n",
    "\n",
    "        html = \"\"\n",
    "        css = \"\"\n",
    "        id = ['pop', 'home', 'hur', 'flood', 'tor']\n",
    "        colors = ['red', 'green', 'blue', 'red', 'green']\n",
    "        ziptabs = \"\"\n",
    "        for zipcode in zip_codes:\n",
    "            ziptabs += f\"\"\"<button class=\"tablink2\" onclick=\"openZip('{zipcode}', this, 'red')\">{zipcode}</button>\"\"\"\n",
    "            html += f\"\"\"<div id=\"{zipcode}\", class=\"tabcontent2\">\n",
    "                    \n",
    "                    <button class=\"tablink\" onclick=\"openPage('pop_{zipcode}', this, 'red')\">Population Stats</button>\n",
    "                    <button class=\"tablink\" onclick=\"openPage('home_{zipcode}', this, 'green')\" id=\"defaultOpen\">Home Value</button>\n",
    "                    <button class=\"tablink\" onclick=\"openPage('hur_{zipcode}', this, 'blue')\">Hurricane Damage Estimates</button>\n",
    "                    <button class=\"tablink\" onclick=\"openPage('flood_{zipcode}', this, 'red')\">Flood Damage Estimates</button>\n",
    "                    <button class=\"tablink\" onclick=\"openPage('tor_{zipcode}', this, 'green')\">Tornado Damage Estimates</button>\n",
    "                    \n",
    "                    \"\"\"\n",
    "\n",
    "            for i in range(len(table_dict[zipcode])):\n",
    "                html += f'<div id=\"{id[i]}_{zipcode}\" class=\"tabcontent\" style=\"background-color: {colors[i]}\">'\n",
    "                html += table_dict[zipcode][i]\n",
    "                html += '</div>'\n",
    "           \n",
    "            html += '</div>'\n",
    "        return render_template('home2.html', map=map_it, html=html, ziptabs=ziptabs)\n"
   ]
  },
  {
   "cell_type": "code",
   "execution_count": null,
   "metadata": {
    "scrolled": false
   },
   "outputs": [
    {
     "name": "stdout",
     "output_type": "stream",
     "text": [
      " * Serving Flask app \"__main__\" (lazy loading)\n",
      " * Environment: production\n",
      "   WARNING: This is a development server. Do not use it in a production deployment.\n",
      "   Use a production WSGI server instead.\n",
      " * Debug mode: off\n"
     ]
    },
    {
     "name": "stderr",
     "output_type": "stream",
     "text": [
      " * Running on http://0.0.0.0:5000/ (Press CTRL+C to quit)\n",
      "127.0.0.1 - - [13/Nov/2019 08:51:45] \"GET / HTTP/1.1\" 200 -\n",
      "127.0.0.1 - - [13/Nov/2019 08:51:45] \"GET /static/css/main2.css HTTP/1.1\" 304 -\n"
     ]
    },
    {
     "name": "stdout",
     "output_type": "stream",
     "text": [
      " Done!\n"
     ]
    },
    {
     "name": "stderr",
     "output_type": "stream",
     "text": [
      "127.0.0.1 - - [13/Nov/2019 08:51:50] \"POST / HTTP/1.1\" 200 -\n"
     ]
    },
    {
     "name": "stdout",
     "output_type": "stream",
     "text": [
      " Done!\n"
     ]
    },
    {
     "name": "stderr",
     "output_type": "stream",
     "text": [
      "127.0.0.1 - - [13/Nov/2019 09:00:47] \"POST / HTTP/1.1\" 200 -\n"
     ]
    },
    {
     "name": "stdout",
     "output_type": "stream",
     "text": [
      "could not fetch for 73141\n",
      "could not fetch for 73105\n",
      "could not fetch for 73129\n",
      "could not fetch for 73106\n",
      "could not fetch for 73108\n",
      "could not fetch for 73117\n",
      " Done!\n"
     ]
    },
    {
     "name": "stderr",
     "output_type": "stream",
     "text": [
      "127.0.0.1 - - [13/Nov/2019 09:01:46] \"POST / HTTP/1.1\" 200 -\n"
     ]
    },
    {
     "name": "stdout",
     "output_type": "stream",
     "text": [
      " Done!\n"
     ]
    },
    {
     "name": "stderr",
     "output_type": "stream",
     "text": [
      "127.0.0.1 - - [13/Nov/2019 09:02:00] \"POST / HTTP/1.1\" 200 -\n"
     ]
    }
   ],
   "source": [
    "# run app\n",
    "if __name__ == '__main__':\n",
    "    app.run(host='0.0.0.0')"
   ]
  }
 ],
 "metadata": {
  "kernelspec": {
   "display_name": "Python 3",
   "language": "python",
   "name": "python3"
  },
  "language_info": {
   "codemirror_mode": {
    "name": "ipython",
    "version": 3
   },
   "file_extension": ".py",
   "mimetype": "text/x-python",
   "name": "python",
   "nbconvert_exporter": "python",
   "pygments_lexer": "ipython3",
   "version": "3.7.3"
  }
 },
 "nbformat": 4,
 "nbformat_minor": 2
}
