{
 "cells": [
  {
   "cell_type": "code",
   "execution_count": 4,
   "metadata": {},
   "outputs": [],
   "source": [
    "import pandas as pd\n",
    "import math\n",
    "import numpy as np"
   ]
  },
  {
   "cell_type": "code",
   "execution_count": 5,
   "metadata": {},
   "outputs": [
    {
     "data": {
      "text/plain": [
       "'en_US.UTF-8'"
      ]
     },
     "execution_count": 5,
     "metadata": {},
     "output_type": "execute_result"
    }
   ],
   "source": [
    "import locale\n",
    "locale.setlocale(locale.LC_ALL, '')"
   ]
  },
  {
   "cell_type": "code",
   "execution_count": 6,
   "metadata": {
    "scrolled": true
   },
   "outputs": [
    {
     "name": "stdout",
     "output_type": "stream",
     "text": [
      "Requirement already satisfied: uszipcode in /home/dylan/anaconda3/lib/python3.7/site-packages (0.2.4)\n",
      "Requirement already satisfied: attrs in /home/dylan/anaconda3/lib/python3.7/site-packages (from uszipcode) (19.1.0)\n",
      "Requirement already satisfied: pathlib-mate in /home/dylan/anaconda3/lib/python3.7/site-packages (from uszipcode) (0.0.15)\n",
      "Requirement already satisfied: requests in /home/dylan/anaconda3/lib/python3.7/site-packages (from uszipcode) (2.21.0)\n",
      "Requirement already satisfied: sqlalchemy in /home/dylan/anaconda3/lib/python3.7/site-packages (from uszipcode) (1.3.1)\n",
      "Requirement already satisfied: autopep8 in /home/dylan/anaconda3/lib/python3.7/site-packages (from pathlib-mate->uszipcode) (1.4.4)\n",
      "Requirement already satisfied: six in /home/dylan/anaconda3/lib/python3.7/site-packages (from pathlib-mate->uszipcode) (1.12.0)\n",
      "Requirement already satisfied: chardet<3.1.0,>=3.0.2 in /home/dylan/anaconda3/lib/python3.7/site-packages (from requests->uszipcode) (3.0.4)\n",
      "Requirement already satisfied: idna<2.9,>=2.5 in /home/dylan/anaconda3/lib/python3.7/site-packages (from requests->uszipcode) (2.8)\n",
      "Requirement already satisfied: certifi>=2017.4.17 in /home/dylan/anaconda3/lib/python3.7/site-packages (from requests->uszipcode) (2019.6.16)\n",
      "Requirement already satisfied: urllib3<1.25,>=1.21.1 in /home/dylan/anaconda3/lib/python3.7/site-packages (from requests->uszipcode) (1.24.1)\n",
      "Requirement already satisfied: pycodestyle>=2.4.0 in /home/dylan/anaconda3/lib/python3.7/site-packages (from autopep8->pathlib-mate->uszipcode) (2.5.0)\n"
     ]
    }
   ],
   "source": [
    "!pip install uszipcode\n",
    "from uszipcode import SearchEngine\n",
    "search = SearchEngine(simple_zipcode=False)"
   ]
  },
  {
   "cell_type": "code",
   "execution_count": 7,
   "metadata": {},
   "outputs": [],
   "source": [
    "all_zips = pd.read_csv('~/Downloads/us-zip-code-latitude-and-longitude.csv', sep=\";\")\n",
    "ca_zips = all_zips[all_zips['State'] == \"CA\"]['Zip'].values\n",
    "\n",
    "fl_zips = all_zips[all_zips['State'] == 'FL']['Zip'].values"
   ]
  },
  {
   "cell_type": "markdown",
   "metadata": {},
   "source": [
    "Disaster Function"
   ]
  },
  {
   "cell_type": "code",
   "execution_count": 8,
   "metadata": {},
   "outputs": [],
   "source": [
    "# seperate numbers by commas\n",
    "def place_value(number): \n",
    "    return (\"{:,}\".format(number)) "
   ]
  },
  {
   "cell_type": "code",
   "execution_count": 9,
   "metadata": {},
   "outputs": [
    {
     "data": {
      "text/plain": [
       "['zipcode_type',\n",
       " 'major_city',\n",
       " 'post_office_city',\n",
       " 'common_city_list',\n",
       " 'county',\n",
       " 'state',\n",
       " 'lat',\n",
       " 'lng',\n",
       " 'timezone',\n",
       " 'radius_in_miles',\n",
       " 'area_code_list',\n",
       " 'population',\n",
       " 'population_density',\n",
       " 'land_area_in_sqmi',\n",
       " 'water_area_in_sqmi',\n",
       " 'housing_units',\n",
       " 'occupied_housing_units',\n",
       " 'median_home_value',\n",
       " 'median_household_income',\n",
       " 'bounds_west',\n",
       " 'bounds_east',\n",
       " 'bounds_north',\n",
       " 'bounds_south',\n",
       " 'zipcode',\n",
       " 'polygon',\n",
       " 'population_by_year',\n",
       " 'population_by_age',\n",
       " 'population_by_gender',\n",
       " 'population_by_race',\n",
       " 'head_of_household_by_age',\n",
       " 'families_vs_singles',\n",
       " 'households_with_kids',\n",
       " 'children_by_age',\n",
       " 'housing_type',\n",
       " 'year_housing_was_built',\n",
       " 'housing_occupancy',\n",
       " 'vancancy_reason',\n",
       " 'owner_occupied_home_values',\n",
       " 'rental_properties_by_number_of_rooms',\n",
       " 'monthly_rent_including_utilities_studio_apt',\n",
       " 'monthly_rent_including_utilities_1_b',\n",
       " 'monthly_rent_including_utilities_2_b',\n",
       " 'monthly_rent_including_utilities_3plus_b',\n",
       " 'employment_status',\n",
       " 'average_household_income_over_time',\n",
       " 'household_income',\n",
       " 'annual_individual_earnings',\n",
       " 'sources_of_household_income____percent_of_households_receiving_income',\n",
       " 'sources_of_household_income____average_income_per_household_by_income_source',\n",
       " 'household_investment_income____percent_of_households_receiving_investment_income',\n",
       " 'household_investment_income____average_income_per_household_by_income_source',\n",
       " 'household_retirement_income____percent_of_households_receiving_retirement_incom',\n",
       " 'household_retirement_income____average_income_per_household_by_income_source',\n",
       " 'source_of_earnings',\n",
       " 'means_of_transportation_to_work_for_workers_16_and_over',\n",
       " 'travel_time_to_work_in_minutes',\n",
       " 'educational_attainment_for_population_25_and_over',\n",
       " 'school_enrollment_age_3_to_17']"
      ]
     },
     "execution_count": 9,
     "metadata": {},
     "output_type": "execute_result"
    }
   ],
   "source": [
    "search.by_zipcode(80302).keys()"
   ]
  },
  {
   "cell_type": "code",
   "execution_count": 10,
   "metadata": {},
   "outputs": [
    {
     "data": {
      "text/plain": [
       "8262"
      ]
     },
     "execution_count": 10,
     "metadata": {},
     "output_type": "execute_result"
    }
   ],
   "source": [
    "z_dict = search.by_zipcode(26164)\n",
    "population = z_dict.population\n",
    "population"
   ]
  },
  {
   "cell_type": "code",
   "execution_count": 14,
   "metadata": {},
   "outputs": [
    {
     "data": {
      "text/plain": [
       "3833"
      ]
     },
     "execution_count": 14,
     "metadata": {},
     "output_type": "execute_result"
    }
   ],
   "source": [
    "z_dict.housing_units"
   ]
  },
  {
   "cell_type": "code",
   "execution_count": 15,
   "metadata": {},
   "outputs": [
    {
     "data": {
      "text/plain": [
       "3429"
      ]
     },
     "execution_count": 15,
     "metadata": {},
     "output_type": "execute_result"
    }
   ],
   "source": [
    "z_dict.occupied_housing_units"
   ]
  },
  {
   "cell_type": "code",
   "execution_count": 21,
   "metadata": {},
   "outputs": [
    {
     "data": {
      "text/plain": [
       "8262"
      ]
     },
     "execution_count": 21,
     "metadata": {},
     "output_type": "execute_result"
    }
   ],
   "source": [
    "z_dict.population"
   ]
  },
  {
   "cell_type": "code",
   "execution_count": 64,
   "metadata": {},
   "outputs": [],
   "source": [
    "# disaster level converting from category of storm to wind speed (km/hr)\n",
    "\n",
    "def hurricane_damage(zip_code, disaster_level):\n",
    "    try: \n",
    "        level = {\n",
    "            1: 119, 2: 154, 3: 178, 4:209, 5: 252\n",
    "        }\n",
    "    \n",
    "    except:\n",
    "        pass\n",
    "\n",
    "    z_dict = search.by_zipcode(zip_code)\n",
    "    population = z_dict.population\n",
    "       \n",
    "    damage = -976532 + 2.22*(level[disaster_level])**3 + 9.81e-10*(population)**3\n",
    "    damage = np.round(damage, 2)\n",
    "    \n",
    "    \n",
    "    print(f'{zip_code} occured ${place_value(damage)} damage from a category {disaster_level} hurricane.')"
   ]
  },
  {
   "cell_type": "code",
   "execution_count": 65,
   "metadata": {},
   "outputs": [
    {
     "name": "stdout",
     "output_type": "stream",
     "text": [
      "26164 occured $2,765,074.23 damage from a category 1 hurricane.\n"
     ]
    }
   ],
   "source": [
    "hurricane_damage(26164, 1)"
   ]
  },
  {
   "cell_type": "code",
   "execution_count": 24,
   "metadata": {},
   "outputs": [
    {
     "data": {
      "text/plain": [
       "553.254021354168"
      ]
     },
     "execution_count": 24,
     "metadata": {},
     "output_type": "execute_result"
    }
   ],
   "source": [
    "9.81e-10*(8262)**3"
   ]
  },
  {
   "cell_type": "code",
   "execution_count": 25,
   "metadata": {},
   "outputs": [
    {
     "data": {
      "text/plain": [
       "26487.0"
      ]
     },
     "execution_count": 25,
     "metadata": {},
     "output_type": "execute_result"
    }
   ],
   "source": [
    "9.81e-10*(30000)**3"
   ]
  },
  {
   "cell_type": "code",
   "execution_count": 26,
   "metadata": {},
   "outputs": [],
   "source": [
    "# # disaster level converting from category of storm to wind speed (km/hr)\n",
    "\n",
    "# def hurricane_damage2(zip_code, disaster_level):\n",
    "#     try: \n",
    "#         level = {\n",
    "#             1: 119, 2: 154, 3: 178, 4:209, 5: 252\n",
    "#         }\n",
    "    \n",
    "#     except:\n",
    "#         pass\n",
    "\n",
    "#     z_dict = search.by_zipcode(zip_code)\n",
    "#     population = z_dict.population\n",
    "    \n",
    "#     damage = -2042821 + 316.55*(level[disaster_level])**2 + 6.58*(population) + 9.27e-10(population)**3 \n",
    "#     damage = np.round(damage, 2)\n",
    "    \n",
    "    \n",
    "#     print(f'{zip_code} occured {place_value(damage)} damage from a category {disaster_level} hurricane.')"
   ]
  },
  {
   "cell_type": "code",
   "execution_count": 27,
   "metadata": {},
   "outputs": [],
   "source": [
    "# hurricane_damage2(26164, 1)"
   ]
  },
  {
   "cell_type": "code",
   "execution_count": 87,
   "metadata": {},
   "outputs": [],
   "source": [
    "# Small Home <= 1000 sqft\n",
    "# Average Home 1001-4999 sqft\n",
    "# Large Home => 5000 sqft\n",
    "# https://www.fema.gov/media-library-data/1499290622913-0bcd74f47bf20aa94998a5a920837710/Flood_Loss_Estimations_2017.pdf\n",
    "\n",
    "def flood_loss(zip_code, water_inches):\n",
    "    \n",
    "    # getting number of houses in zipcode. setting to n_houses\n",
    "    z_dict = search.by_zipcode(zip_code)\n",
    "    n_houses = z_dict.housing_units\n",
    "    \n",
    "    water_inches = round(water_inches)\n",
    "    \n",
    "    inches = [13,14,15,16,17,18,19,20,21,22,23,25,26,27,28,29,30,31,32,33,34,35,37,38,39,40,41,42,43,44,45,46,47]\n",
    "    \n",
    "    if water_inches in inches:\n",
    "        print(f'Not data for flood of {water_inches} inches')\n",
    "        return\n",
    "    elif water_inches > 48:\n",
    "        print(\"No data for flood over 48 inches\")\n",
    "        return\n",
    "    \n",
    "    \n",
    "    \n",
    "    avg_sq_ft = 999 # This is where the avg_sq_ft per zipcode would go. \n",
    "    \n",
    "    if avg_sq_ft < 1000:\n",
    "    \n",
    "        small_home = {1: 9550, 2: 9620, 3: 9820, 4: 12730, 5: 12780,\n",
    "                      6: 15300, 7: 15508, 8: 15717, 9: 15925, 10: 16133,\n",
    "                      11: 16342, 12: 16550, 24: 19500, 36: 21100, 48: 23400} \n",
    "        damage = small_home[water_inches] * n_houses\n",
    "    \n",
    "    \n",
    "    elif avg_sq_ft >= 1000 and avg_sq_ft < 5000:\n",
    "    \n",
    "        average_home = {1: 23635, 2: 23720, 3: 24370, 4: 31345, 5: 31425, \n",
    "                        6: 37260, 7: 37691, 8: 38122, 9:38553, 10: 38983,\n",
    "                        11: 39414, 12: 39845, 24: 44325, 36: 47905, 48: 53355}\n",
    "        damage = average_home[water_inches] * n_houses\n",
    "    \n",
    "    \n",
    "    elif avg_sq_ft > 5000:\n",
    "    \n",
    "        large_home = {1: 47110, 2: 47220, 3: 48620, 4: 62370, 5: 62500, 6: 73860,\n",
    "                      7: 74662 , 8: 75463, 9: 76265, 10: 77067, 11: 77868, 12: 78670,\n",
    "                      24: 85700, 36: 92580, 48: 103280}\n",
    "        damage = large_home[water_inches] * n_houses\n",
    "        \n",
    "    else:\n",
    "        \n",
    "        print(\"Square footage not found\")\n",
    "   \n",
    "    \n",
    "    print(f'{zip_code} occured ${place_value(damage)} in damage from {water_inches} inches of flooding inside homes.')"
   ]
  },
  {
   "cell_type": "code",
   "execution_count": 88,
   "metadata": {},
   "outputs": [
    {
     "name": "stdout",
     "output_type": "stream",
     "text": [
      "77096 occured $196,436,630 in damage from 4 inches of flooding inside homes.\n"
     ]
    }
   ],
   "source": [
    "flood_loss(77096, 4.3)"
   ]
  },
  {
   "cell_type": "code",
   "execution_count": 89,
   "metadata": {},
   "outputs": [
    {
     "name": "stdout",
     "output_type": "stream",
     "text": [
      "Not data for flood of 14 inches\n"
     ]
    }
   ],
   "source": [
    "flood_loss(26164, 14)"
   ]
  },
  {
   "cell_type": "code",
   "execution_count": null,
   "metadata": {},
   "outputs": [],
   "source": []
  }
 ],
 "metadata": {
  "kernelspec": {
   "display_name": "Python 3",
   "language": "python",
   "name": "python3"
  },
  "language_info": {
   "codemirror_mode": {
    "name": "ipython",
    "version": 3
   },
   "file_extension": ".py",
   "mimetype": "text/x-python",
   "name": "python",
   "nbconvert_exporter": "python",
   "pygments_lexer": "ipython3",
   "version": "3.7.3"
  }
 },
 "nbformat": 4,
 "nbformat_minor": 2
}
